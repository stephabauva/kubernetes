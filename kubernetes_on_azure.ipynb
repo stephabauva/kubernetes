{
 "cells": [
  {
   "cell_type": "markdown",
   "metadata": {},
   "source": [
    "KUBERNETES ON MICROSOFT AZURE"
   ]
  },
  {
   "cell_type": "markdown",
   "metadata": {},
   "source": [
    "Step 1. install Homebrew"
   ]
  },
  {
   "cell_type": "raw",
   "metadata": {},
   "source": [
    "mkdir homebrew && curl -L https://github.com/Homebrew/brew/tarball/master | tar xz --strip 1 -C homebrew"
   ]
  },
  {
   "cell_type": "markdown",
   "metadata": {},
   "source": [
    "For Windows and Linux, go to https://docs.brew.sh/Homebrew-on-Linux"
   ]
  },
  {
   "cell_type": "markdown",
   "metadata": {},
   "source": [
    "Step 2. install Azure CLI (command line toolkit)"
   ]
  },
  {
   "cell_type": "raw",
   "metadata": {},
   "source": [
    "brew update && brew install azure-cli"
   ]
  },
  {
   "cell_type": "markdown",
   "metadata": {},
   "source": [
    "For Windows and Linux, go to https://docs.microsoft.com/en-us/cli/azure/install-azure-cli?view=azure-cli-latest"
   ]
  },
  {
   "cell_type": "markdown",
   "metadata": {},
   "source": [
    "If you get an error: The following directories are not writable:\n",
    "/usr/local/share/info\n",
    "\n",
    "You must change the ownership of these directories to the user."
   ]
  },
  {
   "cell_type": "markdown",
   "metadata": {},
   "source": [
    "Type this:"
   ]
  },
  {
   "cell_type": "raw",
   "metadata": {},
   "source": [
    "sudo chown -R $(whoami) /usr/local/share/info"
   ]
  },
  {
   "cell_type": "markdown",
   "metadata": {},
   "source": [
    "And then make sure that your user has write permission with this: "
   ]
  },
  {
   "cell_type": "raw",
   "metadata": {},
   "source": [
    "chmod u+w /usr/local/share/info"
   ]
  },
  {
   "cell_type": "markdown",
   "metadata": {},
   "source": [
    "And then install again:"
   ]
  },
  {
   "cell_type": "raw",
   "metadata": {},
   "source": [
    "brew update && brew install azure-cli"
   ]
  },
  {
   "cell_type": "markdown",
   "metadata": {},
   "source": [
    "Step 3. Log in your Microsoft Azure account"
   ]
  },
  {
   "cell_type": "markdown",
   "metadata": {},
   "source": [
    "As mentionned above, Azure CLI is a command line toolkit. \n",
    "You can run the Azure CLI with the az command. \n",
    "To sign in, use az login command."
   ]
  },
  {
   "cell_type": "raw",
   "metadata": {},
   "source": [
    "az login"
   ]
  },
  {
   "cell_type": "markdown",
   "metadata": {},
   "source": [
    "and simply log in your azure account and close the window."
   ]
  },
  {
   "cell_type": "markdown",
   "metadata": {},
   "source": [
    "Activate your subscription.\n",
    "Do the following code to get a list of subscriptions your account has access to by running:"
   ]
  },
  {
   "cell_type": "raw",
   "metadata": {},
   "source": [
    "az account list --refresh --output table"
   ]
  },
  {
   "cell_type": "markdown",
   "metadata": {},
   "source": [
    "If you have more than one account:"
   ]
  },
  {
   "cell_type": "raw",
   "metadata": {},
   "source": [
    "az account set -s <YOUR-CHOSEN-SUBSCRIPTION-NAME>"
   ]
  },
  {
   "cell_type": "markdown",
   "metadata": {},
   "source": [
    "Otherwise just move on."
   ]
  },
  {
   "cell_type": "markdown",
   "metadata": {},
   "source": [
    "Step 4. Create a \"resource group\" to group related resources together. \n",
    "\n",
    "We need to create a resource group in a given data center location. We will create computational resources within this resource group."
   ]
  },
  {
   "cell_type": "raw",
   "metadata": {},
   "source": [
    "az group create -l francecentral -n MyResourceGroup --output table"
   ]
  },
  {
   "cell_type": "markdown",
   "metadata": {},
   "source": [
    "-l specifies the location of the data center you want your resource to be in;\n",
    "\n",
    "-n specifies the name of your resource group (name it whatever you want, here it's MyResourceGroup);\n",
    "\n",
    "--output table specifies that the output should be in human readable format\n",
    "\n",
    "for more details, go to https://docs.microsoft.com/en-us/cli/azure/group?view=azure-cli-latest#az-group-create"
   ]
  },
  {
   "cell_type": "markdown",
   "metadata": {},
   "source": [
    "Step 5. Create a (kubernetes) cluster folder locally (does not create the cluster yet)"
   ]
  },
  {
   "cell_type": "raw",
   "metadata": {},
   "source": [
    "mkdir my_first_cluster  #--> type any name\n",
    "cd my_first_cluster"
   ]
  },
  {
   "cell_type": "markdown",
   "metadata": {},
   "source": [
    "Create a ssh key to secure your cluster"
   ]
  },
  {
   "cell_type": "raw",
   "metadata": {},
   "source": [
    "ssh-keygen -f ssh-key-my_first_cluster"
   ]
  },
  {
   "cell_type": "markdown",
   "metadata": {},
   "source": [
    "It will prompt you to add a password, which you can leave empty if you wish.\n",
    "\n",
    "You should obtain somethong like that:"
   ]
  },
  {
   "cell_type": "raw",
   "metadata": {},
   "source": [
    "The key fingerprint is:\n",
    "SHA256:v01.....zafk Stef@stefs-macbook-air.home"
   ]
  },
  {
   "cell_type": "markdown",
   "metadata": {},
   "source": [
    "Those are the public and private key. Keep those keys safe!"
   ]
  },
  {
   "cell_type": "markdown",
   "metadata": {},
   "source": [
    "Step 6. Create an AKS cluster"
   ]
  },
  {
   "cell_type": "raw",
   "metadata": {},
   "source": [
    "az aks create -n MyManagedCluster -g MyResourceGroup --ssh-key-value ssh-key-my_first_cluster.pub -c 3 -s Standard_D2s_v3 --output table"
   ]
  },
  {
   "cell_type": "markdown",
   "metadata": {},
   "source": [
    "-n is the name you want to give to your cluster \"on Azure\";\n",
    "\n",
    "-g the name of your resource group\n",
    "\n",
    "--ssh-key-value is ..wait for it..your ssh public key! who could have guessed!\n",
    "\n",
    "--node-count or -c is the number of nodes in the Kubernetes node pool. After creating a cluster, you can change the size of its node pool with az aks scale. --> default value: 3\n",
    "\n",
    "-- node-osdisk-size or -s is the size of Virtual Machines to create as Kubernetes nodes, which varies based on what you are using your cluster for and how much RAM/CPU each of your users need.\n",
    "\n",
    "see the list of all possible node size: https://docs.microsoft.com/en-us/azure/cloud-services/cloud-services-sizes-specs"
   ]
  },
  {
   "cell_type": "markdown",
   "metadata": {},
   "source": [
    "ERROR!!!!!!!!\n",
    "--> Directory permission is needed for the current user to register the application. For how to configure, please refer 'https://docs.microsoft.com/en-us/azure/azure-resource-manager/resource-group-create-service-principal-portal'. Original error: Insufficient privileges to complete the operation."
   ]
  },
  {
   "cell_type": "markdown",
   "metadata": {},
   "source": [
    "See the rest of the code fro kubernetes here https://z2jh.jupyter.org/en/latest/microsoft/step-zero-azure.html"
   ]
  },
  {
   "cell_type": "code",
   "execution_count": null,
   "metadata": {},
   "outputs": [],
   "source": []
  }
 ],
 "metadata": {
  "kernelspec": {
   "display_name": "Python 3",
   "language": "python",
   "name": "python3"
  },
  "language_info": {
   "codemirror_mode": {
    "name": "ipython",
    "version": 3
   },
   "file_extension": ".py",
   "mimetype": "text/x-python",
   "name": "python",
   "nbconvert_exporter": "python",
   "pygments_lexer": "ipython3",
   "version": "3.7.3"
  }
 },
 "nbformat": 4,
 "nbformat_minor": 2
}
